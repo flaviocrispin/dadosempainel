{
  "nbformat": 4,
  "nbformat_minor": 0,
  "metadata": {
    "colab": {
      "name": "notebook sobre dados em painel com python.ipynb",
      "provenance": [],
      "authorship_tag": "ABX9TyPpClAXWg2a+y7UG45wXqGJ",
      "include_colab_link": true
    },
    "kernelspec": {
      "name": "python3",
      "display_name": "Python 3"
    },
    "language_info": {
      "name": "python"
    }
  },
  "cells": [
    {
      "cell_type": "markdown",
      "metadata": {
        "id": "view-in-github",
        "colab_type": "text"
      },
      "source": [
        "<a href=\"https://colab.research.google.com/github/flaviocrispin/dadosempainel/blob/main/notebook_sobre_dados_em_painel_com_python.ipynb\" target=\"_parent\"><img src=\"https://colab.research.google.com/assets/colab-badge.svg\" alt=\"Open In Colab\"/></a>"
      ]
    },
    {
      "cell_type": "code",
      "metadata": {
        "colab": {
          "base_uri": "https://localhost:8080/"
        },
        "id": "1z6lVmB7Qchk",
        "cellView": "form",
        "outputId": "0359db29-00ab-4c06-d9dd-170ce79c037f"
      },
      "source": [
        "#@title Sincronizar o google colab com o seu google drive\n",
        "'''\n",
        "Ao executar a célula, ira abrir uma nova janela onde pedirá sua conta da google e aparecerá uma senha para colar no espaço solicitado!\n",
        "'''\n",
        "from google.colab import drive\n",
        "drive.mount('/content/drive')"
      ],
      "execution_count": null,
      "outputs": [
        {
          "output_type": "stream",
          "name": "stdout",
          "text": [
            "Drive already mounted at /content/drive; to attempt to forcibly remount, call drive.mount(\"/content/drive\", force_remount=True).\n"
          ]
        }
      ]
    },
    {
      "cell_type": "markdown",
      "metadata": {
        "id": "V2iFzUBE_-2s"
      },
      "source": [
        "# **O que são dados em painel?**\n",
        "\n",
        "Dados em painel ou dados longitudinais (em inglês panel data) é um termo comum em estatística e suas aplicações em econometria e é utilizado para designar informações de várias unidades amostrais (indivíduos, empresas, etc) acompanhadas, em geral, ao longo do tempo. Dessa forma, as observações são consideradas em duas dimensões uma delas é a unidade amostral e a outra é o tempo. Por exemplo, os preços mensais do quilograma de feijão em vários supermercados durante esse ano. Além disso, o tempo pode ser substituído por outras condições de observação como diferentes lugares.\n",
        "\n",
        "As informações de cada unidade amostral, composta por todas as suas observações ao longo do tempo é também chamada de séries temporais. Por exemplo, os preços mensais do quilograma de feijão ao longo desse ano em um único supermercado é uma série com 12 observações.\n",
        "\n",
        "Dados de séries temporais podem ser considerados como um caso particular de dados em painel, pois nesse caso apenas uma unidade amostral é acompanhada ao longo do tempo. Dados em painel são obtidos a partir de estudos longitudinais ou estudos em painel.\n",
        "\n",
        "Os dados podem ser balanceados quando as observações de todas as unidades estão disponíveis ao longo de todo o período de tempo, ou painéis não-balanceados quando uma ou mais unidades não está presente em todos os períodos da base de dados. O segundo caso pode originar diversos problemas a serem considerados, um deles ocorre se a ausência das unidades na base de dados não é aleatória (exemplo: Atrição). Os modelos de análise mais utilizados são efeitos fixos e efeitos aleatórios. \\\n",
        "Fonte: [Wikipedia](https://en.wikipedia.org/wiki/Panel_analysis) \\\n",
        "Bibliografia complementar \\\n",
        "https://towardsdatascience.com/a-guide-to-panel-data-regression-theoretics-and-implementation-with-python-4c84c5055cf8 \\\n",
        "https://www.statsmodels.org/stable/index.html \\\n",
        "https://pypi.org/project/linearmodels/ \\\n",
        "OBS: OS DADOS PARA ANALISES SE ENCONTRAM EM: \\\n",
        "[DADOS](https://docs.google.com/spreadsheets/d/1YhsP0yTwiW0vU3ypFotFO3SlUFQlBPC8/edit?usp=sharing&ouid=109560462856001090011&rtpof=true&sd=true)\n"
      ]
    },
    {
      "cell_type": "code",
      "metadata": {
        "id": "Pmol85K4Q5QB",
        "cellView": "form"
      },
      "source": [
        "#@title Carregamento de Instâncias e Importações de bibliotecas\n",
        "#@markdown Rodar essa célula para carregar as importações:\n",
        "\n",
        "#@markdown Dependência: LINEAR MODELS e STATS MODEL\n",
        "!pip install linearmodels &> /dev/null\n",
        "!pip install pandas &> /dev/null\n",
        "!pip install numpy &> /dev/null\n",
        "!pip install scipy &> /dev/null\n",
        "!pip install patsy &> /dev/null\n",
        "!pip install statsmodels &> /dev/null\n",
        "\n",
        "\n",
        "import os\n",
        "\n",
        "DIR = '/content/drive/MyDrive/Colab Notebooks/mestrado' #@param {type:'string'}\n",
        "os.chdir(DIR) \n",
        "\n",
        "import pandas as pd #biblioteca Pandas\n",
        "import matplotlib.pyplot as plt #biblioteca Matplotlib\n",
        "import numpy as np #biblioteca numpy\n",
        "import statsmodels.formula.api as smf #biblioteca STATSMODEL\n",
        "from linearmodels import PanelOLS #biblioteca para dados de painel fixo\n",
        "from linearmodels import PooledOLS #biblioteca de regressão modelo pooled\n",
        "from linearmodels import RandomEffects #biblioteca de efeitos randomicos"
      ],
      "execution_count": null,
      "outputs": []
    },
    {
      "cell_type": "code",
      "metadata": {
        "id": "OnawdgraRJPV",
        "cellView": "form"
      },
      "source": [
        "#@title Carregar arquivo\n",
        "'''\n",
        "As colunas ID e YEAR foram transformada em index com o objetivo\n",
        "de deixar o dataframe em formal de PAINEL\n",
        "'''\n",
        "df = pd.read_excel(\"/content/drive/MyDrive/Colab Notebooks/mestrado/Base Dados Aula AED2021.xlsx\", index_col=[0,1])"
      ],
      "execution_count": null,
      "outputs": []
    },
    {
      "cell_type": "code",
      "metadata": {
        "colab": {
          "base_uri": "https://localhost:8080/",
          "height": 238
        },
        "id": "qIQAWjyGSeRD",
        "cellView": "form",
        "outputId": "5336b01a-12c1-44a4-e8f2-217832e5f560"
      },
      "source": [
        "#@title DATAFRAME do arquivo carregado\n",
        "#@markdown Explicação do dataset \\\n",
        "#@markdown ID - Países\\\n",
        "#@markdown Year - Ano\\\n",
        "#@markdown GDPpc - PIB per cápita \\\n",
        "#@markdown CO2pc - Emissão de CO2 per capita \\\n",
        "#@markdown CH4pc - Emissão de CH4 per capida \\\n",
        "#@markdown EC - Emissão de carbono \\\n",
        "#@markdown x1, x2, x3 = CO2, CH4 e EC respectivamente\\\n",
        "#@markdown lnx1, lnx2, lnx3 = Logarítmo referente a x1, x2 e x3\n",
        "\n",
        "df.head()"
      ],
      "execution_count": null,
      "outputs": [
        {
          "output_type": "execute_result",
          "data": {
            "text/html": [
              "<div>\n",
              "<style scoped>\n",
              "    .dataframe tbody tr th:only-of-type {\n",
              "        vertical-align: middle;\n",
              "    }\n",
              "\n",
              "    .dataframe tbody tr th {\n",
              "        vertical-align: top;\n",
              "    }\n",
              "\n",
              "    .dataframe thead th {\n",
              "        text-align: right;\n",
              "    }\n",
              "</style>\n",
              "<table border=\"1\" class=\"dataframe\">\n",
              "  <thead>\n",
              "    <tr style=\"text-align: right;\">\n",
              "      <th></th>\n",
              "      <th></th>\n",
              "      <th>GDPpc</th>\n",
              "      <th>CO2pc</th>\n",
              "      <th>CH4pc</th>\n",
              "      <th>Ecpc</th>\n",
              "      <th>lnx1</th>\n",
              "      <th>lny1</th>\n",
              "      <th>lnx2</th>\n",
              "      <th>lnx3</th>\n",
              "      <th>x1</th>\n",
              "      <th>y1</th>\n",
              "      <th>x2</th>\n",
              "      <th>x3</th>\n",
              "    </tr>\n",
              "    <tr>\n",
              "      <th>id</th>\n",
              "      <th>year</th>\n",
              "      <th></th>\n",
              "      <th></th>\n",
              "      <th></th>\n",
              "      <th></th>\n",
              "      <th></th>\n",
              "      <th></th>\n",
              "      <th></th>\n",
              "      <th></th>\n",
              "      <th></th>\n",
              "      <th></th>\n",
              "      <th></th>\n",
              "      <th></th>\n",
              "    </tr>\n",
              "  </thead>\n",
              "  <tbody>\n",
              "    <tr>\n",
              "      <th rowspan=\"5\" valign=\"top\">1</th>\n",
              "      <th>2008</th>\n",
              "      <td>36280</td>\n",
              "      <td>6708.38011</td>\n",
              "      <td>865.41296</td>\n",
              "      <td>7151.62935</td>\n",
              "      <td>10.499022</td>\n",
              "      <td>8.811113</td>\n",
              "      <td>6.763207</td>\n",
              "      <td>8.875095</td>\n",
              "      <td>36280</td>\n",
              "      <td>6708.38011</td>\n",
              "      <td>865.41296</td>\n",
              "      <td>7151.62935</td>\n",
              "    </tr>\n",
              "    <tr>\n",
              "      <th>2009</th>\n",
              "      <td>34830</td>\n",
              "      <td>6097.28481</td>\n",
              "      <td>854.57303</td>\n",
              "      <td>6861.98357</td>\n",
              "      <td>10.458234</td>\n",
              "      <td>8.715599</td>\n",
              "      <td>6.750602</td>\n",
              "      <td>8.833752</td>\n",
              "      <td>34830</td>\n",
              "      <td>6097.28481</td>\n",
              "      <td>854.57303</td>\n",
              "      <td>6861.98357</td>\n",
              "    </tr>\n",
              "    <tr>\n",
              "      <th>2010</th>\n",
              "      <td>35390</td>\n",
              "      <td>6454.08410</td>\n",
              "      <td>839.11157</td>\n",
              "      <td>7164.36256</td>\n",
              "      <td>10.474185</td>\n",
              "      <td>8.772468</td>\n",
              "      <td>6.732344</td>\n",
              "      <td>8.876874</td>\n",
              "      <td>35390</td>\n",
              "      <td>6454.08410</td>\n",
              "      <td>839.11157</td>\n",
              "      <td>7164.36256</td>\n",
              "    </tr>\n",
              "    <tr>\n",
              "      <th>2011</th>\n",
              "      <td>36300</td>\n",
              "      <td>6320.00488</td>\n",
              "      <td>815.92346</td>\n",
              "      <td>7139.63037</td>\n",
              "      <td>10.499573</td>\n",
              "      <td>8.751475</td>\n",
              "      <td>6.704321</td>\n",
              "      <td>8.873416</td>\n",
              "      <td>36300</td>\n",
              "      <td>6320.00488</td>\n",
              "      <td>815.92346</td>\n",
              "      <td>7139.63037</td>\n",
              "    </tr>\n",
              "    <tr>\n",
              "      <th>2012</th>\n",
              "      <td>36390</td>\n",
              "      <td>5965.30163</td>\n",
              "      <td>798.50644</td>\n",
              "      <td>7208.70916</td>\n",
              "      <td>10.502049</td>\n",
              "      <td>8.693715</td>\n",
              "      <td>6.682743</td>\n",
              "      <td>8.883045</td>\n",
              "      <td>36390</td>\n",
              "      <td>5965.30163</td>\n",
              "      <td>798.50644</td>\n",
              "      <td>7208.70916</td>\n",
              "    </tr>\n",
              "  </tbody>\n",
              "</table>\n",
              "</div>"
            ],
            "text/plain": [
              "         GDPpc       CO2pc      CH4pc  ...          y1         x2          x3\n",
              "id year                                ...                                   \n",
              "1  2008  36280  6708.38011  865.41296  ...  6708.38011  865.41296  7151.62935\n",
              "   2009  34830  6097.28481  854.57303  ...  6097.28481  854.57303  6861.98357\n",
              "   2010  35390  6454.08410  839.11157  ...  6454.08410  839.11157  7164.36256\n",
              "   2011  36300  6320.00488  815.92346  ...  6320.00488  815.92346  7139.63037\n",
              "   2012  36390  5965.30163  798.50644  ...  5965.30163  798.50644  7208.70916\n",
              "\n",
              "[5 rows x 12 columns]"
            ]
          },
          "metadata": {},
          "execution_count": 23
        }
      ]
    },
    {
      "cell_type": "code",
      "metadata": {
        "cellView": "form",
        "id": "y1X4a2zI2LtQ"
      },
      "source": [
        "#@title Setar variáveis\n",
        "y1 = df['y1'] #variável dependente/endógena\n",
        "\n",
        "#Setar variável endógena\n",
        "endog = y1\n",
        "\n",
        "#Setar variáveis exógenas\n",
        "exog = df[['x1', 'x2', 'x3']]"
      ],
      "execution_count": null,
      "outputs": []
    },
    {
      "cell_type": "code",
      "metadata": {
        "id": "Qrs66hVRX3nP",
        "colab": {
          "base_uri": "https://localhost:8080/"
        },
        "cellView": "form",
        "outputId": "6cd1daee-cb96-441f-8fbb-becc595a637e"
      },
      "source": [
        "#@title MODELO OLS (Ordinary Least Square) - Mínimos Quadrados Ordinários\n",
        "'''\n",
        "O Método dos Mínimos Quadrados (MMQ), ou Mínimos Quadrados Ordinários (MQO) ou OLS (do inglês Ordinary Least Squares)\n",
        "é uma técnica de otimização matemática que procura encontrar o melhor ajuste para um conjunto de dados tentando \n",
        "minimizar a soma dos quadrados das diferenças entre o valor estimado e os dados observados (tais diferenças são chamadas resíduos)\n",
        "fonte: wikipedia\n",
        "'''\n",
        "results = sm.OLS(endog, exog).fit()\n",
        "print(results.summary())"
      ],
      "execution_count": null,
      "outputs": [
        {
          "output_type": "stream",
          "name": "stdout",
          "text": [
            "                                 OLS Regression Results                                \n",
            "=======================================================================================\n",
            "Dep. Variable:                     y1   R-squared (uncentered):                   0.861\n",
            "Model:                            OLS   Adj. R-squared (uncentered):              0.859\n",
            "Method:                 Least Squares   F-statistic:                              582.5\n",
            "Date:                Mon, 04 Oct 2021   Prob (F-statistic):                   9.89e-121\n",
            "Time:                        10:45:22   Log-Likelihood:                         -2674.3\n",
            "No. Observations:                 286   AIC:                                      5355.\n",
            "Df Residuals:                     283   BIC:                                      5366.\n",
            "Df Model:                           3                                                  \n",
            "Covariance Type:            nonrobust                                                  \n",
            "==============================================================================\n",
            "                 coef    std err          t      P>|t|      [0.025      0.975]\n",
            "------------------------------------------------------------------------------\n",
            "x1             0.0561      0.015      3.710      0.000       0.026       0.086\n",
            "x2             2.7236      0.272     10.016      0.000       2.188       3.259\n",
            "x3             0.4192      0.065      6.417      0.000       0.291       0.548\n",
            "==============================================================================\n",
            "Omnibus:                       25.604   Durbin-Watson:                   0.171\n",
            "Prob(Omnibus):                  0.000   Jarque-Bera (JB):               37.117\n",
            "Skew:                           0.597   Prob(JB):                     8.71e-09\n",
            "Kurtosis:                       4.299   Cond. No.                         50.7\n",
            "==============================================================================\n",
            "\n",
            "Notes:\n",
            "[1] R² is computed without centering (uncentered) since the model does not contain a constant.\n",
            "[2] Standard Errors assume that the covariance matrix of the errors is correctly specified.\n"
          ]
        }
      ]
    },
    {
      "cell_type": "code",
      "metadata": {
        "colab": {
          "base_uri": "https://localhost:8080/"
        },
        "cellView": "form",
        "id": "vvZYMcIsjeLg",
        "outputId": "114631b9-c7aa-4ba7-8a67-e60c858f2fee"
      },
      "source": [
        "#@title REGRESSÃO PARA DADOS DE PAINEL DE EFEITOS FIXOS/FIXED EFFECT MODELS\n",
        "'''\n",
        "Existem atributos únicos de indivíduos que não variam com o tempo. Ou seja, os atributos únicos para um determinado\n",
        "indivíduo i são invariáveis ​​no tempo t. Esses atributos podem ou não estar correlacionados com as variáveis ​​dependentes individuais yi\n",
        "fonte: wikipedia\n",
        "'''\n",
        "mod = PanelOLS.from_formula('y1 ~ x1 + x2 + x3 + EntityEffects', df)\n",
        "fe_res = mod.fit(cov_type='clustered', cluster_entity=True)\n",
        "print(fe_res)"
      ],
      "execution_count": null,
      "outputs": [
        {
          "output_type": "stream",
          "name": "stdout",
          "text": [
            "                          PanelOLS Estimation Summary                           \n",
            "================================================================================\n",
            "Dep. Variable:                     y1   R-squared:                        0.4460\n",
            "Estimator:                   PanelOLS   R-squared (Between):              0.4390\n",
            "No. Observations:                 286   R-squared (Within):               0.4460\n",
            "Date:                Mon, Oct 04 2021   R-squared (Overall):              0.4390\n",
            "Time:                        10:56:15   Log-likelihood                   -2198.4\n",
            "Cov. Estimator:             Clustered                                           \n",
            "                                        F-statistic:                      68.970\n",
            "Entities:                          26   P-value                           0.0000\n",
            "Avg Obs:                       11.000   Distribution:                   F(3,257)\n",
            "Min Obs:                       11.000                                           \n",
            "Max Obs:                       11.000   F-statistic (robust):             14.410\n",
            "                                        P-value                           0.0000\n",
            "Time periods:                      11   Distribution:                   F(3,257)\n",
            "Avg Obs:                       26.000                                           \n",
            "Min Obs:                       26.000                                           \n",
            "Max Obs:                       26.000                                           \n",
            "                                                                                \n",
            "                             Parameter Estimates                              \n",
            "==============================================================================\n",
            "            Parameter  Std. Err.     T-stat    P-value    Lower CI    Upper CI\n",
            "------------------------------------------------------------------------------\n",
            "x1            -0.0177     0.0315    -0.5614     0.5750     -0.0797      0.0443\n",
            "x2             7.0713     1.2706     5.5655     0.0000      4.5693      9.5733\n",
            "x3             0.7981     0.2588     3.0841     0.0023      0.2885      1.3077\n",
            "==============================================================================\n",
            "\n",
            "F-test for Poolability: 212.01\n",
            "P-value: 0.0000\n",
            "Distribution: F(25,257)\n",
            "\n",
            "Included effects: Entity\n"
          ]
        }
      ]
    },
    {
      "cell_type": "code",
      "metadata": {
        "id": "TPL8xw6FbLrv",
        "colab": {
          "base_uri": "https://localhost:8080/"
        },
        "cellView": "form",
        "outputId": "9ba30ba0-825f-452f-b436-885c954138e5"
      },
      "source": [
        "#@title REGRESSÃO COM DADOS EM PAINEL DE EFEITOS RANDOMICOS/RANDOM EFFECTS\n",
        "'''\n",
        "Existem atributos únicos e constantes de tempo de indivíduos que não \n",
        "estão correlacionados com os regressores individuais. OLS agrupado \n",
        "pode ser usado para derivar estimativas imparciais e consistentes\n",
        "de parâmetros, mesmo quando atributos de constante de tempo \n",
        "estão presentes, mas os efeitos aleatórios serão mais eficientes\n",
        "fonte: wikipedia\n",
        "'''\n",
        "\n",
        "\n",
        "# random effects model\n",
        "model_re = RandomEffects(endog, exog) \n",
        "re_res = model_re.fit() \n",
        "#print results\n",
        "print(re_res)"
      ],
      "execution_count": null,
      "outputs": [
        {
          "output_type": "stream",
          "name": "stdout",
          "text": [
            "                        RandomEffects Estimation Summary                        \n",
            "================================================================================\n",
            "Dep. Variable:                     y1   R-squared:                        0.5195\n",
            "Estimator:              RandomEffects   R-squared (Between):              0.8030\n",
            "No. Observations:                 286   R-squared (Within):               0.4151\n",
            "Date:                Mon, Oct 04 2021   R-squared (Overall):              0.7995\n",
            "Time:                        10:51:25   Log-likelihood                   -2222.8\n",
            "Cov. Estimator:            Unadjusted                                           \n",
            "                                        F-statistic:                      101.99\n",
            "Entities:                          26   P-value                           0.0000\n",
            "Avg Obs:                       11.000   Distribution:                   F(3,283)\n",
            "Min Obs:                       11.000                                           \n",
            "Max Obs:                       11.000   F-statistic (robust):             101.99\n",
            "                                        P-value                           0.0000\n",
            "Time periods:                      11   Distribution:                   F(3,283)\n",
            "Avg Obs:                       26.000                                           \n",
            "Min Obs:                       26.000                                           \n",
            "Max Obs:                       26.000                                           \n",
            "                                                                                \n",
            "                             Parameter Estimates                              \n",
            "==============================================================================\n",
            "            Parameter  Std. Err.     T-stat    P-value    Lower CI    Upper CI\n",
            "------------------------------------------------------------------------------\n",
            "x1            -0.0308     0.0160    -1.9258     0.0551     -0.0623      0.0007\n",
            "x2             5.0829     0.5585     9.1012     0.0000      3.9836      6.1822\n",
            "x3             0.6490     0.0944     6.8773     0.0000      0.4632      0.8347\n",
            "==============================================================================\n"
          ]
        }
      ]
    },
    {
      "cell_type": "code",
      "metadata": {
        "colab": {
          "base_uri": "https://localhost:8080/"
        },
        "id": "JzxwraNSfcPZ",
        "cellView": "form",
        "outputId": "9fcaed5e-1fe2-4ea2-8a3b-6472bd09e9b9"
      },
      "source": [
        "#@title TESTE DE HAUSMAN\n",
        "\n",
        "import numpy.linalg as la\n",
        "from scipy import stats\n",
        "\n",
        "def hausman(fe, re):\n",
        "\n",
        "  b = fe.params\n",
        "  B = re.params\n",
        "  v_b = fe.cov\n",
        "  v_B = re.cov\n",
        "  df = b[np.abs(b) < 1e8].size\n",
        "  chi2 = np.dot((b - B).T, la.inv(v_b - v_B).dot(b - B)) \n",
        "  \n",
        "  pval = stats.chi2.sf(chi2, df)\n",
        "  return chi2, df, pval\n",
        "hausman_results = hausman(fe_res, re_res) \n",
        "print('chi-Squared: ' + str(hausman_results[0]))\n",
        "print('degrees of freedom: ' + str(hausman_results[1]))\n",
        "print('p-Value: ' + str(hausman_results[2]))"
      ],
      "execution_count": null,
      "outputs": [
        {
          "output_type": "stream",
          "name": "stdout",
          "text": [
            "chi-Squared: 3.9575018126825077\n",
            "degrees of freedom: 3\n",
            "p-Value: 0.2660898848014861\n"
          ]
        }
      ]
    },
    {
      "cell_type": "code",
      "metadata": {
        "id": "d_QQwoQJf30U"
      },
      "source": [
        "# Perform PooledOLS\n",
        "from linearmodels import PooledOLS\n",
        "\n",
        "mod = PooledOLS(endog, exog)\n",
        "pooledOLS_res = mod.fit(cov_type='clustered', cluster_entity=True)\n",
        "# Store values for checking homoskedasticity graphically\n",
        "fittedvals_pooled_OLS = pooledOLS_res.predict().fitted_values\n",
        "residuals_pooled_OLS = pooledOLS_res.resids   "
      ],
      "execution_count": null,
      "outputs": []
    },
    {
      "cell_type": "code",
      "metadata": {
        "id": "wViNg3ec81aU"
      },
      "source": [
        "# 3A. Homoskedasticity\n",
        "import matplotlib.pyplot as plt\n",
        " # 3A.1 Residuals-Plot for growing Variance Detection\n",
        "fig, ax = plt.subplots()\n",
        "ax.scatter(fittedvals_pooled_OLS, residuals_pooled_OLS, color = 'blue')\n",
        "ax.axhline(0, color = 'r', ls = '--')\n",
        "ax.set_xlabel('Predicted Values', fontsize = 15)\n",
        "ax.set_ylabel('Residuals', fontsize = 15)\n",
        "ax.set_title('Homoskedasticity Test', fontsize = 30)\n",
        "plt.show()"
      ],
      "execution_count": null,
      "outputs": []
    },
    {
      "cell_type": "code",
      "metadata": {
        "id": "yzK_L1wn81hO"
      },
      "source": [
        "# 3A.2 White-Test\n",
        "from statsmodels.stats.diagnostic import het_white, het_breuschpagan\n",
        "pooled_OLS_dataset = pd.concat([dataset, residuals_pooled_OLS], axis=1)\n",
        "pooled_OLS_dataset = pooled_OLS_dataset.drop(['year'], axis = 1).fillna(0)\n",
        "exog = sm.tools.tools.add_constant(dataset['y1']).fillna(0)\n",
        "white_test_results = het_white(pooled_OLS_dataset['residual'], exog)\n",
        "labels = ['LM-Stat', 'LM p-val', 'F-Stat', 'F p-val'] \n",
        "print(dict(zip(labels, white_test_results)))\n",
        "# 3A.3 Breusch-Pagan-Test\n",
        "breusch_pagan_test_results = het_breuschpagan(pooled_OLS_dataset['residual'], exog)\n",
        "labels = ['LM-Stat', 'LM p-val', 'F-Stat', 'F p-val'] \n",
        "print(dict(zip(labels, breusch_pagan_test_results)))"
      ],
      "execution_count": null,
      "outputs": []
    },
    {
      "cell_type": "code",
      "metadata": {
        "id": "o2uR5t1W81jd"
      },
      "source": [
        "# 3.B Non-Autocorrelation\n",
        "# Durbin-Watson-Test\n",
        "from statsmodels.stats.stattools import durbin_watson\n",
        "\n",
        "durbin_watson_test_results = durbin_watson(pooled_OLS_dataset['residual']) \n",
        "print(durbin_watson_test_results)"
      ],
      "execution_count": null,
      "outputs": []
    },
    {
      "cell_type": "code",
      "metadata": {
        "id": "kAUJkcZP81mx"
      },
      "source": [
        ""
      ],
      "execution_count": null,
      "outputs": []
    }
  ]
}